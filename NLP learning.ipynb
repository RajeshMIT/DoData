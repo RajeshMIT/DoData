{
 "cells": [
  {
   "cell_type": "code",
   "execution_count": 45,
   "metadata": {},
   "outputs": [],
   "source": [
    "import nltk as nltk\n",
    "#nltk.download('punkt')\n",
    "#nltk.download('stopwords')\n",
    "#nltk.download('wordnet')\n",
    "#nltk.download('averaged_perceptron_tagger')"
   ]
  },
  {
   "cell_type": "code",
   "execution_count": 46,
   "metadata": {},
   "outputs": [],
   "source": [
    "from nltk.tokenize import sent_tokenize"
   ]
  },
  {
   "cell_type": "code",
   "execution_count": 47,
   "metadata": {},
   "outputs": [
    {
     "name": "stdout",
     "output_type": "stream",
     "text": [
      "['The sweeping orders that kept roughly nine out of 10 Americans at home in recent weeks gave way on Friday to a patchwork of state and local measures allowing millions of people to return to restaurants, movie theaters and malls for the first time in a month or more.', 'But as more states, like Texas, prepared to reopen on Friday, the governors of California and Michigan contended with challenges to their authority to shutter at least some parts of public life.', 'In Lansing, Mich., hundreds of protesters — many of them armed — gathered at the State Capitol on Thursday to oppose stay-at-home orders, weeks after a larger gathering on April 15, when thousands of demonstrators mobilized by conservative groups created a traffic jam on the streets around the statehouse.']\n"
     ]
    }
   ],
   "source": [
    "text = \"The sweeping orders that kept roughly nine out of 10 Americans at home in recent weeks gave way on Friday to a patchwork of state and local measures allowing millions of people to return to restaurants, movie theaters and malls for the first time in a month or more. But as more states, like Texas, prepared to reopen on Friday, the governors of California and Michigan contended with challenges to their authority to shutter at least some parts of public life. In Lansing, Mich., hundreds of protesters — many of them armed — gathered at the State Capitol on Thursday to oppose stay-at-home orders, weeks after a larger gathering on April 15, when thousands of demonstrators mobilized by conservative groups created a traffic jam on the streets around the statehouse.\"\n",
    "tokenized_text = sent_tokenize(text)\n",
    "print(tokenized_text)"
   ]
  },
  {
   "cell_type": "code",
   "execution_count": 48,
   "metadata": {},
   "outputs": [],
   "source": [
    "from nltk.tokenize import word_tokenize"
   ]
  },
  {
   "cell_type": "code",
   "execution_count": 49,
   "metadata": {},
   "outputs": [
    {
     "name": "stdout",
     "output_type": "stream",
     "text": [
      "['The', 'sweeping', 'orders', 'that', 'kept', 'roughly', 'nine', 'out', 'of', '10', 'Americans', 'at', 'home', 'in', 'recent', 'weeks', 'gave', 'way', 'on', 'Friday', 'to', 'a', 'patchwork', 'of', 'state', 'and', 'local', 'measures', 'allowing', 'millions', 'of', 'people', 'to', 'return', 'to', 'restaurants', ',', 'movie', 'theaters', 'and', 'malls', 'for', 'the', 'first', 'time', 'in', 'a', 'month', 'or', 'more', '.', 'But', 'as', 'more', 'states', ',', 'like', 'Texas', ',', 'prepared', 'to', 'reopen', 'on', 'Friday', ',', 'the', 'governors', 'of', 'California', 'and', 'Michigan', 'contended', 'with', 'challenges', 'to', 'their', 'authority', 'to', 'shutter', 'at', 'least', 'some', 'parts', 'of', 'public', 'life', '.', 'In', 'Lansing', ',', 'Mich.', ',', 'hundreds', 'of', 'protesters', '—', 'many', 'of', 'them', 'armed', '—', 'gathered', 'at', 'the', 'State', 'Capitol', 'on', 'Thursday', 'to', 'oppose', 'stay-at-home', 'orders', ',', 'weeks', 'after', 'a', 'larger', 'gathering', 'on', 'April', '15', ',', 'when', 'thousands', 'of', 'demonstrators', 'mobilized', 'by', 'conservative', 'groups', 'created', 'a', 'traffic', 'jam', 'on', 'the', 'streets', 'around', 'the', 'statehouse', '.']\n"
     ]
    }
   ],
   "source": [
    "word_tokenized_text = word_tokenize(text)\n",
    "print(word_tokenized_text)"
   ]
  },
  {
   "cell_type": "code",
   "execution_count": 50,
   "metadata": {},
   "outputs": [
    {
     "name": "stdout",
     "output_type": "stream",
     "text": [
      "<FreqDist with 98 samples and 141 outcomes>\n"
     ]
    }
   ],
   "source": [
    "from nltk.probability import FreqDist\n",
    "fdist = FreqDist(word_tokenized_text)\n",
    "print(fdist)"
   ]
  },
  {
   "cell_type": "code",
   "execution_count": 51,
   "metadata": {},
   "outputs": [
    {
     "data": {
      "text/plain": [
       "[('of', 8), (',', 8), ('to', 7), ('on', 5), ('the', 5)]"
      ]
     },
     "execution_count": 51,
     "metadata": {},
     "output_type": "execute_result"
    }
   ],
   "source": [
    "fdist.most_common(5)"
   ]
  },
  {
   "cell_type": "code",
   "execution_count": 52,
   "metadata": {},
   "outputs": [
    {
     "data": {
      "image/png": "[encoded data removed]",
      "text/plain": [
       "<Figure size 432x288 with 1 Axes>"
      ]
     },
     "metadata": {
      "needs_background": "light"
     },
     "output_type": "display_data"
    }
   ],
   "source": [
    "import matplotlib.pyplot as plt\n",
    "fdist.plot(15,cumulative=False)\n",
    "plt.show()"
   ]
  },
  {
   "cell_type": "code",
   "execution_count": 53,
   "metadata": {},
   "outputs": [
    {
     "name": "stdout",
     "output_type": "stream",
     "text": [
      "{'ll', 'if', \"weren't\", 'ours', 're', 'any', 'were', 'his', 'have', 'not', 'who', 'an', \"needn't\", 'such', 'down', 'didn', 'nor', 'themselves', 'did', \"won't\", 'until', \"it's\", \"should've\", 've', \"wouldn't\", \"you're\", 'now', 'them', 'each', 'd', 'myself', 'what', 'further', 'against', 'up', 'wouldn', 'here', \"you'll\", 'm', 'between', 'out', 'there', 'over', 'having', 'about', 'doesn', 'by', 'me', 'too', 'no', 'so', 'he', 'off', 'once', 'at', 'most', 'will', 'very', 'should', 'where', 'does', 'o', 'my', 'some', \"couldn't\", 'ourselves', 'aren', 'won', 'of', 'needn', \"wasn't\", \"she's\", \"doesn't\", 'are', 'those', 'this', 'do', 'during', 'under', 'into', 'it', 'more', \"aren't\", 'their', 'itself', 'because', 'than', \"didn't\", 'our', 'your', 'ain', 'mustn', 'be', 'its', 'you', \"mightn't\", 'been', 'i', 'can', \"shan't\", 'and', 'hasn', 'why', 'above', 'same', 'am', 'haven', 'that', 'him', 'while', 'we', 'isn', 'shouldn', 'for', \"you've\", 'again', 'she', 'hadn', 'theirs', 'y', \"isn't\", 'from', 'only', 'after', 'own', 'shan', \"mustn't\", 'before', 'was', 'both', \"you'd\", 'the', 'to', 'weren', 'when', \"don't\", 'wasn', 'but', 'yourselves', 'in', \"hasn't\", 'himself', 'they', 'yours', 'couldn', 'don', \"hadn't\", 'her', 'is', 'other', 'or', \"haven't\", 'mightn', 'herself', 'had', 'with', 'on', 'yourself', 'these', 'just', 'hers', 'as', \"shouldn't\", \"that'll\", 'whom', 'which', 'ma', 'below', 'has', 'through', 'then', 's', 't', 'being', 'few', 'how', 'a', 'doing', 'all'}\n"
     ]
    }
   ],
   "source": [
    "from nltk.corpus import stopwords\n",
    "stop_words = set(stopwords.words (\"english\"))\n",
    "print(stop_words)"
   ]
  },
  {
   "cell_type": "code",
   "execution_count": 54,
   "metadata": {},
   "outputs": [
    {
     "name": "stdout",
     "output_type": "stream",
     "text": [
      "Tokenized Sentence: ['The', 'sweeping', 'orders', 'that', 'kept', 'roughly', 'nine', 'out', 'of', '10', 'Americans', 'at', 'home', 'in', 'recent', 'weeks', 'gave', 'way', 'on', 'Friday', 'to', 'a', 'patchwork', 'of', 'state', 'and', 'local', 'measures', 'allowing', 'millions', 'of', 'people', 'to', 'return', 'to', 'restaurants', ',', 'movie', 'theaters', 'and', 'malls', 'for', 'the', 'first', 'time', 'in', 'a', 'month', 'or', 'more', '.', 'But', 'as', 'more', 'states', ',', 'like', 'Texas', ',', 'prepared', 'to', 'reopen', 'on', 'Friday', ',', 'the', 'governors', 'of', 'California', 'and', 'Michigan', 'contended', 'with', 'challenges', 'to', 'their', 'authority', 'to', 'shutter', 'at', 'least', 'some', 'parts', 'of', 'public', 'life', '.', 'In', 'Lansing', ',', 'Mich.', ',', 'hundreds', 'of', 'protesters', '—', 'many', 'of', 'them', 'armed', '—', 'gathered', 'at', 'the', 'State', 'Capitol', 'on', 'Thursday', 'to', 'oppose', 'stay-at-home', 'orders', ',', 'weeks', 'after', 'a', 'larger', 'gathering', 'on', 'April', '15', ',', 'when', 'thousands', 'of', 'demonstrators', 'mobilized', 'by', 'conservative', 'groups', 'created', 'a', 'traffic', 'jam', 'on', 'the', 'streets', 'around', 'the', 'statehouse', '.']\n",
      "\n",
      "\n",
      "Filterd Sentence: ['The', 'sweeping', 'orders', 'kept', 'roughly', 'nine', '10', 'Americans', 'home', 'recent', 'weeks', 'gave', 'way', 'Friday', 'patchwork', 'state', 'local', 'measures', 'allowing', 'millions', 'people', 'return', 'restaurants', ',', 'movie', 'theaters', 'malls', 'first', 'time', 'month', '.', 'But', 'states', ',', 'like', 'Texas', ',', 'prepared', 'reopen', 'Friday', ',', 'governors', 'California', 'Michigan', 'contended', 'challenges', 'authority', 'shutter', 'least', 'parts', 'public', 'life', '.', 'In', 'Lansing', ',', 'Mich.', ',', 'hundreds', 'protesters', '—', 'many', 'armed', '—', 'gathered', 'State', 'Capitol', 'Thursday', 'oppose', 'stay-at-home', 'orders', ',', 'weeks', 'larger', 'gathering', 'April', '15', ',', 'thousands', 'demonstrators', 'mobilized', 'conservative', 'groups', 'created', 'traffic', 'jam', 'streets', 'around', 'statehouse', '.']\n"
     ]
    }
   ],
   "source": [
    "filtered_word = []\n",
    "for word in word_tokenized_text:\n",
    "    if word not in stop_words:\n",
    "        filtered_word.append(word)\n",
    "print(\"Tokenized Sentence:\",word_tokenized_text)\n",
    "print(\"\\n\")\n",
    "print(\"Filterd Sentence:\",filtered_word)"
   ]
  },
  {
   "cell_type": "code",
   "execution_count": 55,
   "metadata": {},
   "outputs": [],
   "source": [
    "from nltk.stem import PorterStemmer"
   ]
  },
  {
   "cell_type": "code",
   "execution_count": 56,
   "metadata": {},
   "outputs": [],
   "source": [
    "ps = PorterStemmer()"
   ]
  },
  {
   "cell_type": "code",
   "execution_count": 57,
   "metadata": {},
   "outputs": [
    {
     "name": "stdout",
     "output_type": "stream",
     "text": [
      "['The', 'sweeping', 'orders', 'kept', 'roughly', 'nine', '10', 'Americans', 'home', 'recent', 'weeks', 'gave', 'way', 'Friday', 'patchwork', 'state', 'local', 'measures', 'allowing', 'millions', 'people', 'return', 'restaurants', ',', 'movie', 'theaters', 'malls', 'first', 'time', 'month', '.', 'But', 'states', ',', 'like', 'Texas', ',', 'prepared', 'reopen', 'Friday', ',', 'governors', 'California', 'Michigan', 'contended', 'challenges', 'authority', 'shutter', 'least', 'parts', 'public', 'life', '.', 'In', 'Lansing', ',', 'Mich.', ',', 'hundreds', 'protesters', '—', 'many', 'armed', '—', 'gathered', 'State', 'Capitol', 'Thursday', 'oppose', 'stay-at-home', 'orders', ',', 'weeks', 'larger', 'gathering', 'April', '15', ',', 'thousands', 'demonstrators', 'mobilized', 'conservative', 'groups', 'created', 'traffic', 'jam', 'streets', 'around', 'statehouse', '.']\n",
      "\n",
      "\n",
      "['the', 'sweep', 'order', 'kept', 'roughli', 'nine', '10', 'american', 'home', 'recent', 'week', 'gave', 'way', 'friday', 'patchwork', 'state', 'local', 'measur', 'allow', 'million', 'peopl', 'return', 'restaur', ',', 'movi', 'theater', 'mall', 'first', 'time', 'month', '.', 'but', 'state', ',', 'like', 'texa', ',', 'prepar', 'reopen', 'friday', ',', 'governor', 'california', 'michigan', 'contend', 'challeng', 'author', 'shutter', 'least', 'part', 'public', 'life', '.', 'In', 'lans', ',', 'mich.', ',', 'hundr', 'protest', '—', 'mani', 'arm', '—', 'gather', 'state', 'capitol', 'thursday', 'oppos', 'stay-at-hom', 'order', ',', 'week', 'larger', 'gather', 'april', '15', ',', 'thousand', 'demonstr', 'mobil', 'conserv', 'group', 'creat', 'traffic', 'jam', 'street', 'around', 'statehous', '.']\n"
     ]
    }
   ],
   "source": [
    "stemmed_words= []\n",
    "\n",
    "for word in filtered_word:\n",
    "    stemmed_words.append(ps.stem(word))\n",
    " \n",
    "print(filtered_word)\n",
    "print(\"\\n\")\n",
    "print(stemmed_words)"
   ]
  },
  {
   "cell_type": "code",
   "execution_count": 58,
   "metadata": {},
   "outputs": [
    {
     "name": "stdout",
     "output_type": "stream",
     "text": [
      "WordNetLemmatizer =  cycle\n",
      "PorterStemmer =  cycl\n"
     ]
    }
   ],
   "source": [
    "from nltk.stem.wordnet import WordNetLemmatizer\n",
    "lemma = WordNetLemmatizer()\n",
    "\n",
    "from nltk.stem.porter import PorterStemmer\n",
    "stemmer = PorterStemmer()\n",
    "\n",
    "word = \"cycling\"\n",
    "print(\"WordNetLemmatizer = \",lemma.lemmatize(word,\"v\"))\n",
    "print(\"PorterStemmer = \",stemmer.stem(word))"
   ]
  },
  {
   "cell_type": "code",
   "execution_count": 59,
   "metadata": {},
   "outputs": [
    {
     "data": {
      "text/plain": [
       "[('The', 'DT'),\n",
       " ('sweeping', 'JJ'),\n",
       " ('orders', 'NNS'),\n",
       " ('that', 'WDT'),\n",
       " ('kept', 'VBD'),\n",
       " ('roughly', 'RB'),\n",
       " ('nine', 'CD'),\n",
       " ('out', 'IN'),\n",
       " ('of', 'IN'),\n",
       " ('10', 'CD'),\n",
       " ('Americans', 'NNS'),\n",
       " ('at', 'IN'),\n",
       " ('home', 'NN'),\n",
       " ('in', 'IN'),\n",
       " ('recent', 'JJ'),\n",
       " ('weeks', 'NNS'),\n",
       " ('gave', 'VBD'),\n",
       " ('way', 'NN'),\n",
       " ('on', 'IN'),\n",
       " ('Friday', 'NNP'),\n",
       " ('to', 'TO'),\n",
       " ('a', 'DT'),\n",
       " ('patchwork', 'NN'),\n",
       " ('of', 'IN'),\n",
       " ('state', 'NN'),\n",
       " ('and', 'CC'),\n",
       " ('local', 'JJ'),\n",
       " ('measures', 'NNS'),\n",
       " ('allowing', 'VBG'),\n",
       " ('millions', 'NNS'),\n",
       " ('of', 'IN'),\n",
       " ('people', 'NNS'),\n",
       " ('to', 'TO'),\n",
       " ('return', 'VB'),\n",
       " ('to', 'TO'),\n",
       " ('restaurants', 'NNS'),\n",
       " (',', ','),\n",
       " ('movie', 'NN'),\n",
       " ('theaters', 'NNS'),\n",
       " ('and', 'CC'),\n",
       " ('malls', 'NNS'),\n",
       " ('for', 'IN'),\n",
       " ('the', 'DT'),\n",
       " ('first', 'JJ'),\n",
       " ('time', 'NN'),\n",
       " ('in', 'IN'),\n",
       " ('a', 'DT'),\n",
       " ('month', 'NN'),\n",
       " ('or', 'CC'),\n",
       " ('more', 'JJR'),\n",
       " ('.', '.'),\n",
       " ('But', 'CC'),\n",
       " ('as', 'IN'),\n",
       " ('more', 'JJR'),\n",
       " ('states', 'NNS'),\n",
       " (',', ','),\n",
       " ('like', 'IN'),\n",
       " ('Texas', 'NNP'),\n",
       " (',', ','),\n",
       " ('prepared', 'VBD'),\n",
       " ('to', 'TO'),\n",
       " ('reopen', 'VB'),\n",
       " ('on', 'IN'),\n",
       " ('Friday', 'NNP'),\n",
       " (',', ','),\n",
       " ('the', 'DT'),\n",
       " ('governors', 'NNS'),\n",
       " ('of', 'IN'),\n",
       " ('California', 'NNP'),\n",
       " ('and', 'CC'),\n",
       " ('Michigan', 'NNP'),\n",
       " ('contended', 'VBD'),\n",
       " ('with', 'IN'),\n",
       " ('challenges', 'NNS'),\n",
       " ('to', 'TO'),\n",
       " ('their', 'PRP$'),\n",
       " ('authority', 'NN'),\n",
       " ('to', 'TO'),\n",
       " ('shutter', 'VB'),\n",
       " ('at', 'IN'),\n",
       " ('least', 'JJS'),\n",
       " ('some', 'DT'),\n",
       " ('parts', 'NNS'),\n",
       " ('of', 'IN'),\n",
       " ('public', 'JJ'),\n",
       " ('life', 'NN'),\n",
       " ('.', '.'),\n",
       " ('In', 'IN'),\n",
       " ('Lansing', 'NNP'),\n",
       " (',', ','),\n",
       " ('Mich.', 'NNP'),\n",
       " (',', ','),\n",
       " ('hundreds', 'NNS'),\n",
       " ('of', 'IN'),\n",
       " ('protesters', 'NNS'),\n",
       " ('—', 'VBP'),\n",
       " ('many', 'JJ'),\n",
       " ('of', 'IN'),\n",
       " ('them', 'PRP'),\n",
       " ('armed', 'VBD'),\n",
       " ('—', 'RB'),\n",
       " ('gathered', 'VBN'),\n",
       " ('at', 'IN'),\n",
       " ('the', 'DT'),\n",
       " ('State', 'NNP'),\n",
       " ('Capitol', 'NNP'),\n",
       " ('on', 'IN'),\n",
       " ('Thursday', 'NNP'),\n",
       " ('to', 'TO'),\n",
       " ('oppose', 'VB'),\n",
       " ('stay-at-home', 'JJ'),\n",
       " ('orders', 'NNS'),\n",
       " (',', ','),\n",
       " ('weeks', 'NNS'),\n",
       " ('after', 'IN'),\n",
       " ('a', 'DT'),\n",
       " ('larger', 'JJR'),\n",
       " ('gathering', 'NN'),\n",
       " ('on', 'IN'),\n",
       " ('April', 'NNP'),\n",
       " ('15', 'CD'),\n",
       " (',', ','),\n",
       " ('when', 'WRB'),\n",
       " ('thousands', 'NNS'),\n",
       " ('of', 'IN'),\n",
       " ('demonstrators', 'NNS'),\n",
       " ('mobilized', 'VBN'),\n",
       " ('by', 'IN'),\n",
       " ('conservative', 'JJ'),\n",
       " ('groups', 'NNS'),\n",
       " ('created', 'VBD'),\n",
       " ('a', 'DT'),\n",
       " ('traffic', 'NN'),\n",
       " ('jam', 'NN'),\n",
       " ('on', 'IN'),\n",
       " ('the', 'DT'),\n",
       " ('streets', 'NNS'),\n",
       " ('around', 'IN'),\n",
       " ('the', 'DT'),\n",
       " ('statehouse', 'NN'),\n",
       " ('.', '.')]"
      ]
     },
     "execution_count": 59,
     "metadata": {},
     "output_type": "execute_result"
    }
   ],
   "source": [
    "nltk.pos_tag(word_tokenized_text)"
   ]
  }
 ],
 "metadata": {
  "kernelspec": {
   "display_name": "Python 3",
   "language": "python",
   "name": "python3"
  },
  "language_info": {
   "codemirror_mode": {
    "name": "ipython",
    "version": 3
   },
   "file_extension": ".py",
   "mimetype": "text/x-python",
   "name": "python",
   "nbconvert_exporter": "python",
   "pygments_lexer": "ipython3",
   "version": "3.6.10"
  }
 },
 "nbformat": 4,
 "nbformat_minor": 4
}
